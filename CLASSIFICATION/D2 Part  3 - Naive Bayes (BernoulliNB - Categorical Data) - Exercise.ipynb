{
 "cells": [
  {
   "cell_type": "code",
   "execution_count": 1,
   "id": "cf9bd7a3",
   "metadata": {},
   "outputs": [
    {
     "data": {
      "text/html": [
       "<div>\n",
       "<style scoped>\n",
       "    .dataframe tbody tr th:only-of-type {\n",
       "        vertical-align: middle;\n",
       "    }\n",
       "\n",
       "    .dataframe tbody tr th {\n",
       "        vertical-align: top;\n",
       "    }\n",
       "\n",
       "    .dataframe thead th {\n",
       "        text-align: right;\n",
       "    }\n",
       "</style>\n",
       "<table border=\"1\" class=\"dataframe\">\n",
       "  <thead>\n",
       "    <tr style=\"text-align: right;\">\n",
       "      <th></th>\n",
       "      <th>Age</th>\n",
       "      <th>income</th>\n",
       "      <th>student</th>\n",
       "      <th>Credit rating</th>\n",
       "      <th>buys computer (Y/N)</th>\n",
       "    </tr>\n",
       "  </thead>\n",
       "  <tbody>\n",
       "    <tr>\n",
       "      <th>0</th>\n",
       "      <td>youth</td>\n",
       "      <td>high</td>\n",
       "      <td>no</td>\n",
       "      <td>fair</td>\n",
       "      <td>no</td>\n",
       "    </tr>\n",
       "    <tr>\n",
       "      <th>1</th>\n",
       "      <td>youth</td>\n",
       "      <td>high</td>\n",
       "      <td>no</td>\n",
       "      <td>excellent</td>\n",
       "      <td>no</td>\n",
       "    </tr>\n",
       "    <tr>\n",
       "      <th>2</th>\n",
       "      <td>middle aged</td>\n",
       "      <td>high</td>\n",
       "      <td>no</td>\n",
       "      <td>fair</td>\n",
       "      <td>yes</td>\n",
       "    </tr>\n",
       "    <tr>\n",
       "      <th>3</th>\n",
       "      <td>senior</td>\n",
       "      <td>medium</td>\n",
       "      <td>no</td>\n",
       "      <td>fair</td>\n",
       "      <td>yes</td>\n",
       "    </tr>\n",
       "    <tr>\n",
       "      <th>4</th>\n",
       "      <td>senior</td>\n",
       "      <td>low</td>\n",
       "      <td>yes</td>\n",
       "      <td>fair</td>\n",
       "      <td>yes</td>\n",
       "    </tr>\n",
       "  </tbody>\n",
       "</table>\n",
       "</div>"
      ],
      "text/plain": [
       "           Age  income student Credit rating buys computer (Y/N)\n",
       "0        youth    high      no          fair                  no\n",
       "1        youth    high      no     excellent                  no\n",
       "2  middle aged    high      no          fair                 yes\n",
       "3       senior  medium      no          fair                 yes\n",
       "4       senior     low     yes          fair                 yes"
      ]
     },
     "execution_count": 1,
     "metadata": {},
     "output_type": "execute_result"
    }
   ],
   "source": [
    "#import libraries\n",
    "import numpy as np\n",
    "import matplotlib.pyplot as plt\n",
    "import pandas as pd\n",
    "\n",
    "#import dataset\n",
    "ds=pd.read_csv ('NB_computer.csv')\n",
    "ds.head()"
   ]
  },
  {
   "cell_type": "code",
   "execution_count": 2,
   "id": "d5adf49e",
   "metadata": {
    "scrolled": true
   },
   "outputs": [
    {
     "name": "stdout",
     "output_type": "stream",
     "text": [
      "<class 'pandas.core.frame.DataFrame'>\n",
      "RangeIndex: 14 entries, 0 to 13\n",
      "Data columns (total 5 columns):\n",
      " #   Column               Non-Null Count  Dtype \n",
      "---  ------               --------------  ----- \n",
      " 0   Age                  14 non-null     object\n",
      " 1   income               14 non-null     object\n",
      " 2   student              14 non-null     object\n",
      " 3   Credit rating        14 non-null     object\n",
      " 4   buys computer (Y/N)  14 non-null     object\n",
      "dtypes: object(5)\n",
      "memory usage: 688.0+ bytes\n"
     ]
    }
   ],
   "source": [
    "ds.info()"
   ]
  },
  {
   "cell_type": "code",
   "execution_count": 3,
   "id": "7c7eda77",
   "metadata": {},
   "outputs": [],
   "source": [
    "x=ds.iloc[:,:-1].values\n",
    "y=ds.iloc [:,4].values\n",
    "#case ni taknak split train n test sbb data sikit nnti jadi no accuracy."
   ]
  },
  {
   "cell_type": "code",
   "execution_count": 4,
   "id": "0a3c0b75",
   "metadata": {},
   "outputs": [
    {
     "name": "stdout",
     "output_type": "stream",
     "text": [
      "0 ['middle aged', 'senior', 'youth']\n",
      "1 ['high', 'low', 'medium']\n",
      "2 ['no', 'yes']\n",
      "3 ['excellent', 'fair']\n"
     ]
    }
   ],
   "source": [
    "#set is to get unique data, then make it into list follow by sort\n",
    "#after sort, data in sequence 0,1,2\n",
    "i=0\n",
    "for i in range(0,4):\n",
    "    d=list(set(ds.iloc[:, i].values))\n",
    "    d.sort()\n",
    "    print(i,d)\n",
    "    i=i+1"
   ]
  },
  {
   "cell_type": "code",
   "execution_count": 5,
   "id": "4e885a4f",
   "metadata": {},
   "outputs": [
    {
     "name": "stdout",
     "output_type": "stream",
     "text": [
      "[[2 0 0 1]\n",
      " [2 0 0 0]\n",
      " [0 0 0 1]\n",
      " [1 2 0 1]\n",
      " [1 1 1 1]\n",
      " [1 1 1 0]\n",
      " [0 1 1 0]\n",
      " [2 2 0 1]\n",
      " [2 1 1 1]\n",
      " [1 2 1 1]\n",
      " [2 2 1 0]\n",
      " [0 2 0 0]\n",
      " [0 0 1 1]\n",
      " [1 2 0 0]]\n"
     ]
    }
   ],
   "source": [
    "#Handling or Encode categorical variables\n",
    "from sklearn.preprocessing import LabelEncoder\n",
    "labelencoder_x= LabelEncoder()\n",
    "x[:, 0] =labelencoder_x.fit_transform(x[:,0])\n",
    "x[:, 1] =labelencoder_x.fit_transform(x[:,1])\n",
    "x[:, 2] =labelencoder_x.fit_transform(x[:,2])\n",
    "x[:, 3] =labelencoder_x.fit_transform(x[:,3])\n",
    "print(x)\n",
    "#lepas print baru kita boleh identify, 0,1,2 tu merujuk kepada mana, refer to original table"
   ]
  },
  {
   "cell_type": "code",
   "execution_count": 6,
   "id": "f108f99d",
   "metadata": {},
   "outputs": [],
   "source": [
    "#splitting the dataset into training and test sets\n",
    "from sklearn.model_selection import train_test_split\n",
    "x_train , x_test , y_train , y_test = train_test_split (x, y, test_size = 0.2, random_state =0)"
   ]
  },
  {
   "cell_type": "code",
   "execution_count": 7,
   "id": "809fefb3",
   "metadata": {},
   "outputs": [],
   "source": [
    "#STEP 3\n",
    "#fitting Naïve Bayes Classifier to the dataset\n",
    "#we dont use GaussianNB\n",
    "from sklearn.naive_bayes import BernoulliNB\n",
    "classifier=BernoulliNB()\n",
    "classifier=classifier.fit(x,y)"
   ]
  },
  {
   "cell_type": "code",
   "execution_count": 8,
   "id": "05fe5627",
   "metadata": {},
   "outputs": [
    {
     "data": {
      "text/plain": [
       "(array(['yes', 'yes', 'yes'], dtype=object),\n",
       " array(['yes', 'yes', 'yes'], dtype='<U3'))"
      ]
     },
     "execution_count": 8,
     "metadata": {},
     "output_type": "execute_result"
    }
   ],
   "source": [
    "#Preidct the test set results\n",
    "y_pred=classifier.predict(x_test)\n",
    "y_test, y_pred"
   ]
  },
  {
   "cell_type": "code",
   "execution_count": 10,
   "id": "efcf0f2f",
   "metadata": {},
   "outputs": [
    {
     "name": "stdout",
     "output_type": "stream",
     "text": [
      "['yes']\n"
     ]
    }
   ],
   "source": [
    "#STEP 4\n",
    "#Predict using classifier\n",
    "#Predict a person that (Age=youth, Income=medium, student =yes, credit rating = fair) will buy a computer or not.\n",
    "prediction=classifier.predict ([[2., 2., 1., 1.]])\n",
    "print(prediction)"
   ]
  },
  {
   "cell_type": "markdown",
   "id": "61599ed0",
   "metadata": {},
   "source": [
    "Conclusion: A person will buy a computer."
   ]
  }
 ],
 "metadata": {
  "kernelspec": {
   "display_name": "Python 3 (ipykernel)",
   "language": "python",
   "name": "python3"
  },
  "language_info": {
   "codemirror_mode": {
    "name": "ipython",
    "version": 3
   },
   "file_extension": ".py",
   "mimetype": "text/x-python",
   "name": "python",
   "nbconvert_exporter": "python",
   "pygments_lexer": "ipython3",
   "version": "3.9.12"
  }
 },
 "nbformat": 4,
 "nbformat_minor": 5
}
