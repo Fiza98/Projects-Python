{
 "cells": [
  {
   "cell_type": "markdown",
   "id": "4b40b54f",
   "metadata": {},
   "source": [
    "**TEXT PREPROCESSING AND NLP**"
   ]
  },
  {
   "cell_type": "markdown",
   "id": "e6c4ddf6",
   "metadata": {},
   "source": [
    "**Text Preprocessing – Noise Removal**\n",
    "\n",
    "**•Removal of ‘stop words’ (‘the’, ‘a’, ‘and’)**\n",
    "\n",
    "**•Removal of punctuation and special symbol removal (‘?’, ‘@’)**"
   ]
  },
  {
   "cell_type": "code",
   "execution_count": 1,
   "id": "a59ad38e",
   "metadata": {},
   "outputs": [
    {
     "name": "stderr",
     "output_type": "stream",
     "text": [
      "[nltk_data] Downloading package wordnet to\n",
      "[nltk_data]     C:\\Users\\USER\\AppData\\Roaming\\nltk_data...\n",
      "[nltk_data]   Package wordnet is already up-to-date!\n",
      "[nltk_data] Downloading package omw-1.4 to\n",
      "[nltk_data]     C:\\Users\\USER\\AppData\\Roaming\\nltk_data...\n",
      "[nltk_data]   Package omw-1.4 is already up-to-date!\n",
      "[nltk_data] Downloading package stopwords to\n",
      "[nltk_data]     C:\\Users\\USER\\AppData\\Roaming\\nltk_data...\n",
      "[nltk_data]   Package stopwords is already up-to-date!\n",
      "[nltk_data] Downloading package punkt to\n",
      "[nltk_data]     C:\\Users\\USER\\AppData\\Roaming\\nltk_data...\n",
      "[nltk_data]   Package punkt is already up-to-date!\n"
     ]
    },
    {
     "data": {
      "text/plain": [
       "True"
      ]
     },
     "execution_count": 1,
     "metadata": {},
     "output_type": "execute_result"
    }
   ],
   "source": [
    "import nltk\n",
    "\n",
    "nltk.download('wordnet')\n",
    "nltk.download('omw-1.4')\n",
    "nltk.download('stopwords')\n",
    "nltk.download('punkt')"
   ]
  },
  {
   "cell_type": "code",
   "execution_count": 2,
   "id": "0312d0e9",
   "metadata": {},
   "outputs": [
    {
     "data": {
      "text/plain": [
       "['I', 'really', 'like', 'the', 'dessert', 'here']"
      ]
     },
     "execution_count": 2,
     "metadata": {},
     "output_type": "execute_result"
    }
   ],
   "source": [
    "text = 'I really like the dessert here'\n",
    "text = text.split()\n",
    "text"
   ]
  },
  {
   "cell_type": "code",
   "execution_count": 3,
   "id": "8cae0f91",
   "metadata": {},
   "outputs": [],
   "source": [
    "from nltk.corpus import stopwords\n",
    "filtered = [] #put the remaining words in filtered\n",
    "Stopwords = set(stopwords.words('english'))\n",
    "for word in text:\n",
    "    if word not in Stopwords:\n",
    "        filtered.append(word)"
   ]
  },
  {
   "cell_type": "code",
   "execution_count": 4,
   "id": "119b63b2",
   "metadata": {},
   "outputs": [
    {
     "data": {
      "text/plain": [
       "['I', 'really', 'like', 'dessert']"
      ]
     },
     "execution_count": 4,
     "metadata": {},
     "output_type": "execute_result"
    }
   ],
   "source": [
    "filtered"
   ]
  },
  {
   "cell_type": "code",
   "execution_count": 5,
   "id": "9db25f69",
   "metadata": {
    "scrolled": true
   },
   "outputs": [
    {
     "name": "stdout",
     "output_type": "stream",
     "text": [
      "I really like the dessert here  I am definitely coming back to this restaurant \n"
     ]
    }
   ],
   "source": [
    "#Remove the punctuations and special symbols\n",
    "import re\n",
    "text = 'I really like the dessert here. I am definitely coming back to this restaurant!'\n",
    "text = re.sub(r'[^a-zA-Z]', ' ',text) #[^...] matches anything not contained in brackets, replace it by space ' '\n",
    "#a-zA-Z pattern = a-z is shortform for alphabet a until z for huruf kecik, same goes with A-Z\n",
    "print(text)"
   ]
  },
  {
   "cell_type": "code",
   "execution_count": 6,
   "id": "1fe20ec0",
   "metadata": {},
   "outputs": [
    {
     "name": "stdout",
     "output_type": "stream",
     "text": [
      "adfa sdfe arwe awrc\n"
     ]
    }
   ],
   "source": [
    "import re\n",
    "result = re.sub(r'[/;,]', ' ', \"adfa/sdfe;arwe,awrc\")\n",
    "print(result)"
   ]
  },
  {
   "cell_type": "markdown",
   "id": "72fce463",
   "metadata": {},
   "source": [
    "**Text Preprocessing – Word Normalization Stemming**"
   ]
  },
  {
   "cell_type": "code",
   "execution_count": 7,
   "id": "8069a665",
   "metadata": {},
   "outputs": [
    {
     "name": "stdout",
     "output_type": "stream",
     "text": [
      "student\n",
      "studi\n",
      "studi\n",
      "studi\n"
     ]
    }
   ],
   "source": [
    "from nltk.stem.porter import PorterStemmer\n",
    "ps =  PorterStemmer()\n",
    "words = ['student', 'study', 'studying', 'studies']\n",
    "\n",
    "for word in words:\n",
    "    stemming = ps.stem(word)\n",
    "    print(stemming)"
   ]
  },
  {
   "cell_type": "code",
   "execution_count": 8,
   "id": "c684b22a",
   "metadata": {},
   "outputs": [
    {
     "name": "stdout",
     "output_type": "stream",
     "text": [
      "love\n",
      "love\n",
      "loveabl\n",
      "love\n"
     ]
    }
   ],
   "source": [
    "from nltk.stem.porter import PorterStemmer\n",
    "ps =  PorterStemmer()\n",
    "words = ['love', 'lovely', 'loveable', 'loving']\n",
    "\n",
    "for word in words:\n",
    "    stemming = ps.stem(word)\n",
    "    print(stemming)"
   ]
  },
  {
   "cell_type": "code",
   "execution_count": 9,
   "id": "390a4455",
   "metadata": {},
   "outputs": [
    {
     "name": "stdout",
     "output_type": "stream",
     "text": [
      "wonder\n",
      "wonder\n",
      "wonder\n",
      "wonder\n"
     ]
    }
   ],
   "source": [
    "from nltk.stem import PorterStemmer\n",
    "wps =  PorterStemmer()\n",
    "words = ['wonderous', 'wonder', 'wondering', 'wonderful']\n",
    "\n",
    "for word in words:\n",
    "    stemming = ps.stem(word)\n",
    "    print(stemming)"
   ]
  },
  {
   "cell_type": "markdown",
   "id": "7a7bd58c",
   "metadata": {},
   "source": [
    "**Text Preprocessing – Word Normalization Lemmatizer**"
   ]
  },
  {
   "cell_type": "code",
   "execution_count": 10,
   "id": "826e8861",
   "metadata": {},
   "outputs": [
    {
     "name": "stdout",
     "output_type": "stream",
     "text": [
      "student\n",
      "study\n",
      "studying\n",
      "study\n"
     ]
    }
   ],
   "source": [
    "from nltk.stem import WordNetLemmatizer\n",
    "wn1 =  WordNetLemmatizer()\n",
    "words = ['student', 'study', 'studying', 'studies']\n",
    "\n",
    "for word in words:\n",
    "    tokens = wn1.lemmatize(word)\n",
    "    print(tokens)\n",
    "    \n",
    "    #studies replaced to study"
   ]
  },
  {
   "cell_type": "code",
   "execution_count": 11,
   "id": "87aabc74",
   "metadata": {
    "scrolled": true
   },
   "outputs": [
    {
     "name": "stdout",
     "output_type": "stream",
     "text": [
      "love\n",
      "lovely\n",
      "loveable\n",
      "loving\n"
     ]
    }
   ],
   "source": [
    "from nltk.stem import WordNetLemmatizer\n",
    "wn1 =  WordNetLemmatizer()\n",
    "words = ['love', 'lovely', 'loveable', 'loving']\n",
    "\n",
    "for word in words:\n",
    "    tokens = wn1.lemmatize(word)\n",
    "    print(tokens)\n",
    "    \n",
    "    #lemmatizer does not replace as many like stemming method"
   ]
  },
  {
   "cell_type": "code",
   "execution_count": 12,
   "id": "d1a1df59",
   "metadata": {},
   "outputs": [
    {
     "name": "stdout",
     "output_type": "stream",
     "text": [
      "wonderous\n",
      "wonder\n",
      "wondering\n",
      "wonderful\n"
     ]
    }
   ],
   "source": [
    "from nltk.stem import WordNetLemmatizer\n",
    "wn1 =  WordNetLemmatizer()\n",
    "words = ['wonderous', 'wonder', 'wondering', 'wonderful']\n",
    "\n",
    "for word in words:\n",
    "    tokens = wn1.lemmatize(word)\n",
    "    print(tokens)"
   ]
  },
  {
   "cell_type": "code",
   "execution_count": 13,
   "id": "76743e40",
   "metadata": {},
   "outputs": [
    {
     "name": "stdout",
     "output_type": "stream",
     "text": [
      "Lemma for studies is study\n",
      "Lemma for studying is studying\n",
      "Lemma for cries is cry\n",
      "Lemma for cry is cry\n"
     ]
    }
   ],
   "source": [
    "import nltk\n",
    "from nltk.stem import WordNetLemmatizer\n",
    "wordnet_lemmatizer =  WordNetLemmatizer()\n",
    "text = \"studies studying cries cry\"\n",
    "tokenization = nltk.word_tokenize(text)\n",
    "\n",
    "for w in tokenization:\n",
    "    print(\"Lemma for {} is {}\".format(w, wordnet_lemmatizer.lemmatize(w)))"
   ]
  },
  {
   "cell_type": "markdown",
   "id": "62a896a9",
   "metadata": {},
   "source": [
    "**Text Preprocessing – Word Normalization Tokenization**"
   ]
  },
  {
   "cell_type": "code",
   "execution_count": 14,
   "id": "5795cc13",
   "metadata": {},
   "outputs": [
    {
     "name": "stdout",
     "output_type": "stream",
     "text": [
      "['God', 'is', 'Great', '!', 'I', 'won', 'a', 'lottery', '.']\n"
     ]
    }
   ],
   "source": [
    "#STEP 1 - USE TOKENIZATION\n",
    "from nltk.tokenize import word_tokenize\n",
    "text = \"God is Great! I won a lottery.\" #ada !\n",
    "print(word_tokenize(text))"
   ]
  },
  {
   "cell_type": "code",
   "execution_count": 15,
   "id": "b14b6248",
   "metadata": {},
   "outputs": [
    {
     "data": {
      "text/plain": [
       "['God', 'is', 'Great!', 'I', 'won', 'a', 'lottery.']"
      ]
     },
     "execution_count": 15,
     "metadata": {},
     "output_type": "execute_result"
    }
   ],
   "source": [
    "#STEP 2 - SPLIT BUT STILL INCLUDE '.' AND !, NOT USING TOKENIZATION\n",
    "text = 'God is Great! I won a lottery.'\n",
    "text.split()"
   ]
  },
  {
   "cell_type": "code",
   "execution_count": 16,
   "id": "381b9593",
   "metadata": {},
   "outputs": [
    {
     "data": {
      "text/plain": [
       "['God', 'is', 'Great', 'I', 'won', 'a', 'lottery']"
      ]
     },
     "execution_count": 16,
     "metadata": {},
     "output_type": "execute_result"
    }
   ],
   "source": [
    "#STEP 3 - NOT USE TOKENIZATION AND NO !, '.'\n",
    "text = 'God is Great I won a lottery'\n",
    "text.split()"
   ]
  },
  {
   "cell_type": "code",
   "execution_count": 17,
   "id": "dc2b1c83",
   "metadata": {},
   "outputs": [
    {
     "name": "stdout",
     "output_type": "stream",
     "text": [
      "   but  can  catch  drink  flies  him  honey  horse  lead  make  more  than  to  vinegar  water  with  you\n",
      "0    0    2      1      0      1    0      1      0     0     0     1     1   0        1      0     2    2\n",
      "1    1    2      0      1      0    1      0      1     1     1     0     0   1        0      1     0    2\n"
     ]
    },
    {
     "name": "stderr",
     "output_type": "stream",
     "text": [
      "C:\\Users\\USER\\anaconda3\\lib\\site-packages\\sklearn\\utils\\deprecation.py:87: FutureWarning: Function get_feature_names is deprecated; get_feature_names is deprecated in 1.0 and will be removed in 1.2. Please use get_feature_names_out instead.\n",
      "  warnings.warn(msg, category=FutureWarning)\n"
     ]
    }
   ],
   "source": [
    "import pandas as pd\n",
    "\n",
    "from sklearn.feature_extraction.text import CountVectorizer\n",
    "text = [\"You can catch more flies with honey than you can with vinegar.\",\n",
    "       \"You can lead a horse to water, but you can't make him drink.\"]\n",
    "cv = CountVectorizer()\n",
    "X = cv.fit_transform(text)\n",
    "print(pd.DataFrame(X.A, columns=cv.get_feature_names()).to_string())"
   ]
  }
 ],
 "metadata": {
  "kernelspec": {
   "display_name": "Python 3 (ipykernel)",
   "language": "python",
   "name": "python3"
  },
  "language_info": {
   "codemirror_mode": {
    "name": "ipython",
    "version": 3
   },
   "file_extension": ".py",
   "mimetype": "text/x-python",
   "name": "python",
   "nbconvert_exporter": "python",
   "pygments_lexer": "ipython3",
   "version": "3.9.12"
  }
 },
 "nbformat": 4,
 "nbformat_minor": 5
}
