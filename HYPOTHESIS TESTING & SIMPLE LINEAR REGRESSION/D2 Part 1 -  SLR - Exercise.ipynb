{
 "cells": [
  {
   "cell_type": "markdown",
   "id": "2464027e",
   "metadata": {},
   "source": [
    "**SIMPLE LINEAR REGRESSION**"
   ]
  },
  {
   "cell_type": "code",
   "execution_count": 1,
   "id": "5b5048cc",
   "metadata": {},
   "outputs": [
    {
     "data": {
      "text/html": [
       "<div>\n",
       "<style scoped>\n",
       "    .dataframe tbody tr th:only-of-type {\n",
       "        vertical-align: middle;\n",
       "    }\n",
       "\n",
       "    .dataframe tbody tr th {\n",
       "        vertical-align: top;\n",
       "    }\n",
       "\n",
       "    .dataframe thead th {\n",
       "        text-align: right;\n",
       "    }\n",
       "</style>\n",
       "<table border=\"1\" class=\"dataframe\">\n",
       "  <thead>\n",
       "    <tr style=\"text-align: right;\">\n",
       "      <th></th>\n",
       "      <th>Advertising costs ($)</th>\n",
       "      <th>Sales ($)</th>\n",
       "    </tr>\n",
       "  </thead>\n",
       "  <tbody>\n",
       "    <tr>\n",
       "      <th>0</th>\n",
       "      <td>40</td>\n",
       "      <td>385</td>\n",
       "    </tr>\n",
       "    <tr>\n",
       "      <th>1</th>\n",
       "      <td>20</td>\n",
       "      <td>400</td>\n",
       "    </tr>\n",
       "    <tr>\n",
       "      <th>2</th>\n",
       "      <td>25</td>\n",
       "      <td>395</td>\n",
       "    </tr>\n",
       "    <tr>\n",
       "      <th>3</th>\n",
       "      <td>20</td>\n",
       "      <td>365</td>\n",
       "    </tr>\n",
       "    <tr>\n",
       "      <th>4</th>\n",
       "      <td>30</td>\n",
       "      <td>475</td>\n",
       "    </tr>\n",
       "    <tr>\n",
       "      <th>5</th>\n",
       "      <td>50</td>\n",
       "      <td>440</td>\n",
       "    </tr>\n",
       "    <tr>\n",
       "      <th>6</th>\n",
       "      <td>40</td>\n",
       "      <td>490</td>\n",
       "    </tr>\n",
       "    <tr>\n",
       "      <th>7</th>\n",
       "      <td>20</td>\n",
       "      <td>420</td>\n",
       "    </tr>\n",
       "    <tr>\n",
       "      <th>8</th>\n",
       "      <td>50</td>\n",
       "      <td>560</td>\n",
       "    </tr>\n",
       "    <tr>\n",
       "      <th>9</th>\n",
       "      <td>40</td>\n",
       "      <td>525</td>\n",
       "    </tr>\n",
       "    <tr>\n",
       "      <th>10</th>\n",
       "      <td>25</td>\n",
       "      <td>480</td>\n",
       "    </tr>\n",
       "    <tr>\n",
       "      <th>11</th>\n",
       "      <td>50</td>\n",
       "      <td>510</td>\n",
       "    </tr>\n",
       "  </tbody>\n",
       "</table>\n",
       "</div>"
      ],
      "text/plain": [
       "    Advertising costs ($)  Sales ($)\n",
       "0                      40        385\n",
       "1                      20        400\n",
       "2                      25        395\n",
       "3                      20        365\n",
       "4                      30        475\n",
       "5                      50        440\n",
       "6                      40        490\n",
       "7                      20        420\n",
       "8                      50        560\n",
       "9                      40        525\n",
       "10                     25        480\n",
       "11                     50        510"
      ]
     },
     "execution_count": 1,
     "metadata": {},
     "output_type": "execute_result"
    }
   ],
   "source": [
    "#Simple Linear Regression\n",
    "#import libraries\n",
    "import numpy as np\n",
    "import matplotlib.pyplot as plt\n",
    "import pandas as pd\n",
    "\n",
    "#import dataset\n",
    "ds=pd .read_csv('SLR_sales.csv')\n",
    "ds"
   ]
  },
  {
   "cell_type": "code",
   "execution_count": 2,
   "id": "70a4ffca",
   "metadata": {
    "scrolled": true
   },
   "outputs": [
    {
     "name": "stdout",
     "output_type": "stream",
     "text": [
      "<class 'pandas.core.frame.DataFrame'>\n",
      "RangeIndex: 12 entries, 0 to 11\n",
      "Data columns (total 2 columns):\n",
      " #   Column                 Non-Null Count  Dtype\n",
      "---  ------                 --------------  -----\n",
      " 0   Advertising costs ($)  12 non-null     int64\n",
      " 1   Sales ($)              12 non-null     int64\n",
      "dtypes: int64(2)\n",
      "memory usage: 320.0 bytes\n"
     ]
    }
   ],
   "source": [
    "ds.info()"
   ]
  },
  {
   "cell_type": "code",
   "execution_count": 3,
   "id": "62277ce4",
   "metadata": {},
   "outputs": [],
   "source": [
    "#x=ds.iloc[:,:-1].values #Volume\n",
    "#x=ds.iloc[:,0:1].values #Volume\n",
    "x=ds.iloc[:,[0]].values \n",
    "y=ds.iloc[:,1].values #Price\n",
    "#print(x)\n",
    "#print(y)"
   ]
  },
  {
   "cell_type": "code",
   "execution_count": 4,
   "id": "9bd65296",
   "metadata": {},
   "outputs": [
    {
     "name": "stdout",
     "output_type": "stream",
     "text": [
      "                       Advertising costs ($)  Sales ($)\n",
      "Advertising costs ($)               1.000000   0.634837\n",
      "Sales ($)                           0.634837   1.000000\n"
     ]
    }
   ],
   "source": [
    "#x=ds.iloc[:,:-1].values #Volume\n",
    "#x=ds.iloc[:,0:1].values #Volume\n",
    "x=ds.iloc[:,[0]].values \n",
    "y=ds.iloc[:,1].values #Price\n",
    "\n",
    "#calculate the correlation coefficient for the dataset\n",
    "corr = ds.corr()\n",
    "print(corr)"
   ]
  },
  {
   "cell_type": "code",
   "execution_count": 5,
   "id": "5a9c10b8",
   "metadata": {},
   "outputs": [],
   "source": [
    "#splitting the dataset into training and test sets\n",
    "#use 20% for testing data\n",
    "from sklearn.model_selection import train_test_split\n",
    "x_train, x_test , y_train , y_test = train_test_split (x, y, test_size = 0.2,\n",
    "random_state = 0)"
   ]
  },
  {
   "cell_type": "code",
   "execution_count": 6,
   "id": "7448d294",
   "metadata": {},
   "outputs": [
    {
     "name": "stdout",
     "output_type": "stream",
     "text": [
      "Coefficient,beta: [3.10425532]\n",
      "Constant,alpha: [341.08510638]\n"
     ]
    }
   ],
   "source": [
    "#SLR Step 2\n",
    "#Fitting simple linear regression to training set\n",
    "from sklearn.linear_model import LinearRegression\n",
    "regressor=LinearRegression()\n",
    "regressor.fit(x_train,y_train)\n",
    "\n",
    "print('Coefficient,beta:',regressor.coef_)\n",
    "print('Constant,alpha:', regressor.predict([[0]]))"
   ]
  },
  {
   "cell_type": "code",
   "execution_count": 7,
   "id": "682b6ece",
   "metadata": {},
   "outputs": [],
   "source": [
    "#Predicting the results for test set-Step 3\n",
    "y_pred=regressor.predict(x_test)"
   ]
  },
  {
   "cell_type": "code",
   "execution_count": 8,
   "id": "82bf9159",
   "metadata": {},
   "outputs": [
    {
     "name": "stdout",
     "output_type": "stream",
     "text": [
      "[465.25531915 496.29787234 434.21276596]\n"
     ]
    }
   ],
   "source": [
    "print(y_pred) #predicted y"
   ]
  },
  {
   "cell_type": "code",
   "execution_count": 9,
   "id": "5c2d4a1f",
   "metadata": {},
   "outputs": [
    {
     "name": "stdout",
     "output_type": "stream",
     "text": [
      "[490 510 475]\n"
     ]
    }
   ],
   "source": [
    "print(y_test) #actual y"
   ]
  },
  {
   "cell_type": "code",
   "execution_count": 10,
   "id": "2c774bd1",
   "metadata": {},
   "outputs": [
    {
     "name": "stdout",
     "output_type": "stream",
     "text": [
      "[[1.        0.9966159]\n",
      " [0.9966159 1.       ]]\n"
     ]
    }
   ],
   "source": [
    "#calculate the correlation coefficient\n",
    "corr=np.corrcoef(y_pred, y_test)\n",
    "print(corr)"
   ]
  },
  {
   "cell_type": "code",
   "execution_count": 11,
   "id": "146c31c5",
   "metadata": {
    "scrolled": true
   },
   "outputs": [
    {
     "name": "stdout",
     "output_type": "stream",
     "text": [
      "821.2153312207662\n"
     ]
    }
   ],
   "source": [
    "#CALCULATE THE MEAN SQUARED ERROR\n",
    "from sklearn.metrics import mean_squared_error\n",
    "MSE = mean_squared_error(y_test, y_pred)\n",
    "print(MSE) #don't use for classification"
   ]
  },
  {
   "cell_type": "code",
   "execution_count": 12,
   "id": "caec126a",
   "metadata": {},
   "outputs": [
    {
     "name": "stdout",
     "output_type": "stream",
     "text": [
      "             Actual  Predicted\n",
      "Actual     1.000000   0.996616\n",
      "Predicted  0.996616   1.000000\n"
     ]
    }
   ],
   "source": [
    "#calculate the correlation coefficient\n",
    "df = pd.DataFrame({'Actual': y_test, 'Predicted': y_pred})\n",
    "corr = df.corr()\n",
    "print(corr)"
   ]
  },
  {
   "cell_type": "code",
   "execution_count": 14,
   "id": "22a14774",
   "metadata": {},
   "outputs": [
    {
     "data": {
      "image/png": "[encoded data removed]",
      "text/plain": [
       "<Figure size 432x288 with 1 Axes>"
      ]
     },
     "metadata": {
      "needs_background": "light"
     },
     "output_type": "display_data"
    }
   ],
   "source": [
    "#Simple Linear Regression - Step 4\n",
    "#Visualizing Training set result\n",
    "plt.scatter(x_train,y_train,color ='blue') # plot the points\n",
    "plt.plot(x_train,regressor.predict (x_train),color='red') # plot the line\n",
    "plt.title('Advertising costs ($)  vs  Sales ($)')\n",
    "plt.xlabel('Advertising costs ($)')\n",
    "plt.ylabel('Sales ($)')\n",
    "plt.show()"
   ]
  },
  {
   "cell_type": "markdown",
   "id": "f41709d4",
   "metadata": {},
   "source": [
    "Is the line fitting well to the observation?\n",
    "\n",
    "Answer: Yes. The graph of Price vs Volume shows that there is a moderate positive relationship between advertising costs and sales."
   ]
  },
  {
   "cell_type": "markdown",
   "id": "3bf630ec",
   "metadata": {},
   "source": [
    "**Estimate the weekly sales when advertising costs are $35.**"
   ]
  },
  {
   "cell_type": "code",
   "execution_count": 15,
   "id": "e78ddb73",
   "metadata": {},
   "outputs": [
    {
     "name": "stdout",
     "output_type": "stream",
     "text": [
      "[449.73404255]\n"
     ]
    }
   ],
   "source": [
    "y_predict=regressor.predict ([[35]])\n",
    "print(y_predict)"
   ]
  }
 ],
 "metadata": {
  "kernelspec": {
   "display_name": "Python 3 (ipykernel)",
   "language": "python",
   "name": "python3"
  },
  "language_info": {
   "codemirror_mode": {
    "name": "ipython",
    "version": 3
   },
   "file_extension": ".py",
   "mimetype": "text/x-python",
   "name": "python",
   "nbconvert_exporter": "python",
   "pygments_lexer": "ipython3",
   "version": "3.9.12"
  }
 },
 "nbformat": 4,
 "nbformat_minor": 5
}
