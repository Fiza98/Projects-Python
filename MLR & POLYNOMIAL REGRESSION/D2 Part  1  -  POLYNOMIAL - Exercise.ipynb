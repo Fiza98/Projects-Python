{
 "cells": [
  {
   "cell_type": "code",
   "execution_count": 1,
   "id": "5b5048cc",
   "metadata": {},
   "outputs": [
    {
     "data": {
      "text/html": [
       "<div>\n",
       "<style scoped>\n",
       "    .dataframe tbody tr th:only-of-type {\n",
       "        vertical-align: middle;\n",
       "    }\n",
       "\n",
       "    .dataframe tbody tr th {\n",
       "        vertical-align: top;\n",
       "    }\n",
       "\n",
       "    .dataframe thead th {\n",
       "        text-align: right;\n",
       "    }\n",
       "</style>\n",
       "<table border=\"1\" class=\"dataframe\">\n",
       "  <thead>\n",
       "    <tr style=\"text-align: right;\">\n",
       "      <th></th>\n",
       "      <th>X</th>\n",
       "      <th>Y</th>\n",
       "    </tr>\n",
       "  </thead>\n",
       "  <tbody>\n",
       "    <tr>\n",
       "      <th>0</th>\n",
       "      <td>10</td>\n",
       "      <td>393.10</td>\n",
       "    </tr>\n",
       "    <tr>\n",
       "      <th>1</th>\n",
       "      <td>11</td>\n",
       "      <td>471.91</td>\n",
       "    </tr>\n",
       "    <tr>\n",
       "      <th>2</th>\n",
       "      <td>14</td>\n",
       "      <td>751.66</td>\n",
       "    </tr>\n",
       "    <tr>\n",
       "      <th>3</th>\n",
       "      <td>16</td>\n",
       "      <td>974.26</td>\n",
       "    </tr>\n",
       "    <tr>\n",
       "      <th>4</th>\n",
       "      <td>17</td>\n",
       "      <td>1096.39</td>\n",
       "    </tr>\n",
       "    <tr>\n",
       "      <th>5</th>\n",
       "      <td>18</td>\n",
       "      <td>1225.74</td>\n",
       "    </tr>\n",
       "    <tr>\n",
       "      <th>6</th>\n",
       "      <td>19</td>\n",
       "      <td>1362.31</td>\n",
       "    </tr>\n",
       "    <tr>\n",
       "      <th>7</th>\n",
       "      <td>20</td>\n",
       "      <td>1506.10</td>\n",
       "    </tr>\n",
       "    <tr>\n",
       "      <th>8</th>\n",
       "      <td>22</td>\n",
       "      <td>1815.34</td>\n",
       "    </tr>\n",
       "    <tr>\n",
       "      <th>9</th>\n",
       "      <td>24</td>\n",
       "      <td>2153.46</td>\n",
       "    </tr>\n",
       "    <tr>\n",
       "      <th>10</th>\n",
       "      <td>27</td>\n",
       "      <td>2714.79</td>\n",
       "    </tr>\n",
       "    <tr>\n",
       "      <th>11</th>\n",
       "      <td>29</td>\n",
       "      <td>3125.11</td>\n",
       "    </tr>\n",
       "    <tr>\n",
       "      <th>12</th>\n",
       "      <td>32</td>\n",
       "      <td>3794.74</td>\n",
       "    </tr>\n",
       "    <tr>\n",
       "      <th>13</th>\n",
       "      <td>35</td>\n",
       "      <td>4529.35</td>\n",
       "    </tr>\n",
       "    <tr>\n",
       "      <th>14</th>\n",
       "      <td>38</td>\n",
       "      <td>5328.94</td>\n",
       "    </tr>\n",
       "    <tr>\n",
       "      <th>15</th>\n",
       "      <td>42</td>\n",
       "      <td>6496.14</td>\n",
       "    </tr>\n",
       "    <tr>\n",
       "      <th>16</th>\n",
       "      <td>46</td>\n",
       "      <td>7778.86</td>\n",
       "    </tr>\n",
       "    <tr>\n",
       "      <th>17</th>\n",
       "      <td>50</td>\n",
       "      <td>9177.10</td>\n",
       "    </tr>\n",
       "    <tr>\n",
       "      <th>18</th>\n",
       "      <td>58</td>\n",
       "      <td>12320.14</td>\n",
       "    </tr>\n",
       "    <tr>\n",
       "      <th>19</th>\n",
       "      <td>64</td>\n",
       "      <td>14980.66</td>\n",
       "    </tr>\n",
       "    <tr>\n",
       "      <th>20</th>\n",
       "      <td>68</td>\n",
       "      <td>16898.74</td>\n",
       "    </tr>\n",
       "    <tr>\n",
       "      <th>21</th>\n",
       "      <td>70</td>\n",
       "      <td>17901.10</td>\n",
       "    </tr>\n",
       "    <tr>\n",
       "      <th>22</th>\n",
       "      <td>90</td>\n",
       "      <td>50000.00</td>\n",
       "    </tr>\n",
       "  </tbody>\n",
       "</table>\n",
       "</div>"
      ],
      "text/plain": [
       "     X         Y\n",
       "0   10    393.10\n",
       "1   11    471.91\n",
       "2   14    751.66\n",
       "3   16    974.26\n",
       "4   17   1096.39\n",
       "5   18   1225.74\n",
       "6   19   1362.31\n",
       "7   20   1506.10\n",
       "8   22   1815.34\n",
       "9   24   2153.46\n",
       "10  27   2714.79\n",
       "11  29   3125.11\n",
       "12  32   3794.74\n",
       "13  35   4529.35\n",
       "14  38   5328.94\n",
       "15  42   6496.14\n",
       "16  46   7778.86\n",
       "17  50   9177.10\n",
       "18  58  12320.14\n",
       "19  64  14980.66\n",
       "20  68  16898.74\n",
       "21  70  17901.10\n",
       "22  90  50000.00"
      ]
     },
     "execution_count": 1,
     "metadata": {},
     "output_type": "execute_result"
    }
   ],
   "source": [
    "#import libraries\n",
    "import numpy as np\n",
    "import matplotlib.pyplot as plt\n",
    "import pandas as pd\n",
    "\n",
    "#import dataset\n",
    "ds=pd .read_csv('SVR_R_dataset.csv')\n",
    "ds"
   ]
  },
  {
   "cell_type": "code",
   "execution_count": 2,
   "id": "70a4ffca",
   "metadata": {
    "scrolled": true
   },
   "outputs": [
    {
     "name": "stdout",
     "output_type": "stream",
     "text": [
      "<class 'pandas.core.frame.DataFrame'>\n",
      "RangeIndex: 23 entries, 0 to 22\n",
      "Data columns (total 2 columns):\n",
      " #   Column  Non-Null Count  Dtype  \n",
      "---  ------  --------------  -----  \n",
      " 0   X       23 non-null     int64  \n",
      " 1   Y       23 non-null     float64\n",
      "dtypes: float64(1), int64(1)\n",
      "memory usage: 496.0 bytes\n"
     ]
    }
   ],
   "source": [
    "ds.info()"
   ]
  },
  {
   "cell_type": "code",
   "execution_count": 3,
   "id": "62277ce4",
   "metadata": {},
   "outputs": [],
   "source": [
    "#x=ds.iloc[:,:-1].values #Volume\n",
    "#x=ds.iloc[:,0:1].values #Volume\n",
    "x=ds.iloc[:,[0]].values \n",
    "y=ds.iloc[:,1].values #Price\n",
    "#print(x)\n",
    "#print(y)"
   ]
  },
  {
   "cell_type": "code",
   "execution_count": 4,
   "id": "9bd65296",
   "metadata": {},
   "outputs": [
    {
     "name": "stdout",
     "output_type": "stream",
     "text": [
      "          X         Y\n",
      "X  1.000000  0.881423\n",
      "Y  0.881423  1.000000\n"
     ]
    }
   ],
   "source": [
    "#x=ds.iloc[:,:-1].values #Volume\n",
    "#x=ds.iloc[:,0:1].values #Volume\n",
    "x=ds.iloc[:,[0]].values \n",
    "y=ds.iloc[:,1].values #Price\n",
    "\n",
    "#calculate the correlation coefficient for the dataset\n",
    "corr = ds.corr()\n",
    "print(corr)"
   ]
  },
  {
   "cell_type": "code",
   "execution_count": 5,
   "id": "5a9c10b8",
   "metadata": {},
   "outputs": [],
   "source": [
    "#splitting the dataset into training and test sets\n",
    "#use 20% for testing data\n",
    "from sklearn.model_selection import train_test_split\n",
    "x_train, x_test , y_train , y_test = train_test_split (x, y, test_size = 0.2, random_state = 0)"
   ]
  },
  {
   "cell_type": "code",
   "execution_count": 6,
   "id": "7448d294",
   "metadata": {},
   "outputs": [
    {
     "name": "stdout",
     "output_type": "stream",
     "text": [
      "Coefficient,beta: [472.22399522]\n",
      "Constant,alpha: [-8713.35828827]\n"
     ]
    }
   ],
   "source": [
    "#SLR Step 2\n",
    "#Fitting simple linear regression to training set\n",
    "from sklearn.linear_model import LinearRegression\n",
    "regressor=LinearRegression()\n",
    "regressor.fit(x_train,y_train)\n",
    "\n",
    "print('Coefficient,beta:',regressor.coef_) #coeff=b from y = a + bx\n",
    "print('Constant,alpha:', regressor.predict([[0]])) # constant=a from y = a+ bx"
   ]
  },
  {
   "cell_type": "code",
   "execution_count": 7,
   "id": "682b6ece",
   "metadata": {},
   "outputs": [],
   "source": [
    "#Predicting the results for test set-Step 3\n",
    "y_pred=regressor.predict(x_test)"
   ]
  },
  {
   "cell_type": "code",
   "execution_count": 8,
   "id": "82bf9159",
   "metadata": {},
   "outputs": [
    {
     "name": "stdout",
     "output_type": "stream",
     "text": [
      "[ 4981.13757308  4036.68958265 24342.32137707  9231.15353006\n",
      " 23397.87338664]\n"
     ]
    }
   ],
   "source": [
    "print(y_pred) #predicted y"
   ]
  },
  {
   "cell_type": "code",
   "execution_count": 9,
   "id": "5c2d4a1f",
   "metadata": {},
   "outputs": [
    {
     "name": "stdout",
     "output_type": "stream",
     "text": [
      "[ 3125.11  2714.79 17901.1   5328.94 16898.74]\n"
     ]
    }
   ],
   "source": [
    "print(y_test) #actual y"
   ]
  },
  {
   "cell_type": "code",
   "execution_count": 10,
   "id": "2c774bd1",
   "metadata": {},
   "outputs": [
    {
     "name": "stdout",
     "output_type": "stream",
     "text": [
      "[[1.         0.99771314]\n",
      " [0.99771314 1.        ]]\n"
     ]
    }
   ],
   "source": [
    "#calculate the correlation coefficient\n",
    "corr=np.corrcoef(y_pred, y_test)\n",
    "print(corr)"
   ]
  },
  {
   "cell_type": "code",
   "execution_count": 11,
   "id": "146c31c5",
   "metadata": {
    "scrolled": true
   },
   "outputs": [
    {
     "name": "stdout",
     "output_type": "stream",
     "text": [
      "20829518.979717504\n"
     ]
    }
   ],
   "source": [
    "#CALCULATE THE MEAN SQUARED ERROR\n",
    "from sklearn.metrics import mean_squared_error\n",
    "MSE = mean_squared_error(y_test, y_pred)\n",
    "print(MSE) #don't use for classification"
   ]
  },
  {
   "cell_type": "code",
   "execution_count": 12,
   "id": "caec126a",
   "metadata": {
    "scrolled": false
   },
   "outputs": [
    {
     "name": "stdout",
     "output_type": "stream",
     "text": [
      "             Actual  Predicted\n",
      "Actual     1.000000   0.997713\n",
      "Predicted  0.997713   1.000000\n"
     ]
    }
   ],
   "source": [
    "#calculate the correlation coefficient\n",
    "df = pd.DataFrame({'Actual': y_test, 'Predicted': y_pred})\n",
    "corr = df.corr()\n",
    "print(corr)"
   ]
  },
  {
   "cell_type": "code",
   "execution_count": 25,
   "id": "efd698dc",
   "metadata": {},
   "outputs": [
    {
     "data": {
      "image/png": "[encoded data removed]",
      "text/plain": [
       "<Figure size 432x288 with 1 Axes>"
      ]
     },
     "metadata": {
      "needs_background": "light"
     },
     "output_type": "display_data"
    }
   ],
   "source": [
    "# visualizing the result\n",
    "plt.scatter(x,y,color='blue')\n",
    "plt.title('X vs Y')\n",
    "plt.xlabel('X')\n",
    "plt.ylabel('Y')\n",
    "plt.show()"
   ]
  },
  {
   "cell_type": "code",
   "execution_count": 16,
   "id": "0f022270",
   "metadata": {
    "scrolled": true
   },
   "outputs": [
    {
     "data": {
      "text/plain": [
       "LinearRegression()"
      ]
     },
     "execution_count": 16,
     "metadata": {},
     "output_type": "execute_result"
    }
   ],
   "source": [
    "#step 4\n",
    "#Fitting polynomial regression to the dataset\n",
    "from sklearn.preprocessing import PolynomialFeatures\n",
    "from sklearn.linear_model import LinearRegression\n",
    "\n",
    "poly_reg2= PolynomialFeatures(degree=2)\n",
    "x_poly2=poly_reg2.fit_transform(x)\n",
    "\n",
    "regressor2=LinearRegression()\n",
    "regressor2.fit(x_poly2,y)"
   ]
  },
  {
   "cell_type": "code",
   "execution_count": 26,
   "id": "c44013e4",
   "metadata": {
    "scrolled": true
   },
   "outputs": [
    {
     "data": {
      "image/png": "[encoded data removed]",
      "text/plain": [
       "<Figure size 432x288 with 1 Axes>"
      ]
     },
     "metadata": {
      "needs_background": "light"
     },
     "output_type": "display_data"
    }
   ],
   "source": [
    "#visualizing the result\n",
    "plt.scatter(x,y,color='blue')\n",
    "plt.plot(x, regressor2.predict(x_poly2), color='red')\n",
    "plt.title('X vs Y')\n",
    "plt.xlabel('X')\n",
    "plt.ylabel('Y')\n",
    "plt.show()"
   ]
  },
  {
   "cell_type": "code",
   "execution_count": 27,
   "id": "427b0cc7",
   "metadata": {},
   "outputs": [
    {
     "data": {
      "text/plain": [
       "LinearRegression()"
      ]
     },
     "execution_count": 27,
     "metadata": {},
     "output_type": "execute_result"
    }
   ],
   "source": [
    "#Fitting polynomial regression to the dataset\n",
    "#use degree 5 for best fit\n",
    "from sklearn.preprocessing import PolynomialFeatures\n",
    "from sklearn.linear_model import LinearRegression\n",
    "poly_reg5= PolynomialFeatures(degree=5)\n",
    "x_poly5=poly_reg5.fit_transform(x)\n",
    "regressor5=LinearRegression()\n",
    "regressor5.fit(x_poly5,y)"
   ]
  },
  {
   "cell_type": "code",
   "execution_count": 30,
   "id": "35bcdf04",
   "metadata": {},
   "outputs": [
    {
     "data": {
      "image/png": "[encoded data removed]",
      "text/plain": [
       "<Figure size 432x288 with 1 Axes>"
      ]
     },
     "metadata": {
      "needs_background": "light"
     },
     "output_type": "display_data"
    }
   ],
   "source": [
    "# Polynomial Linear Regression – Step 3:\n",
    "# visualizing the result\n",
    "plt.scatter(x,y,color='blue')\n",
    "plt.plot(x, regressor5.predict(x_poly5), color='red') #this one better\n",
    "plt.plot(x, regressor2.predict(x_poly2), color='green') \n",
    "plt.title('X vs Y')\n",
    "plt.show()"
   ]
  },
  {
   "cell_type": "code",
   "execution_count": 31,
   "id": "0fe3dcb9",
   "metadata": {
    "scrolled": true
   },
   "outputs": [
    {
     "data": {
      "image/png": "[encoded data removed]",
      "text/plain": [
       "<Figure size 432x288 with 1 Axes>"
      ]
     },
     "metadata": {
      "needs_background": "light"
     },
     "output_type": "display_data"
    }
   ],
   "source": [
    "# Polynomial Linear Regression – Step 3:\n",
    "# visualizing the result\n",
    "plt.scatter(x,y,color='blue')\n",
    "plt.plot(x, regressor5.predict(x_poly5), color='red') #this one better\n",
    "plt.title('X vs Y')\n",
    "plt.show()"
   ]
  },
  {
   "cell_type": "code",
   "execution_count": 32,
   "id": "76d7a4d3",
   "metadata": {},
   "outputs": [
    {
     "data": {
      "image/png": "[encoded data removed]",
      "text/plain": [
       "<Figure size 432x288 with 1 Axes>"
      ]
     },
     "metadata": {
      "needs_background": "light"
     },
     "output_type": "display_data"
    }
   ],
   "source": [
    "#visualizing the regression result(for higher resolution and smoother curve) \n",
    "x_grid = np.arange(min(x),max(x),0.1)\n",
    "x_grid=x_grid.reshape((len(x_grid),1))\n",
    "\n",
    "plt.scatter(x,y,color='blue')\n",
    "plt.plot(x_grid, regressor5.predict(poly_reg5.fit_transform(x_grid)), color='red')\n",
    "plt.title('X vs Y (polynomial regression) ')\n",
    "plt.xlabel('X')\n",
    "plt.ylabel('Y')\n",
    "plt.show()"
   ]
  },
  {
   "cell_type": "code",
   "execution_count": 23,
   "id": "e78ddb73",
   "metadata": {},
   "outputs": [
    {
     "name": "stdout",
     "output_type": "stream",
     "text": [
      "[4502.56250036]\n"
     ]
    }
   ],
   "source": [
    "#Predict the price when the volume is 35. (degree 5)\n",
    "y_predict=regressor5.predict(poly_reg5.fit_transform([[35]]))\n",
    "print(y_predict)"
   ]
  }
 ],
 "metadata": {
  "kernelspec": {
   "display_name": "Python 3 (ipykernel)",
   "language": "python",
   "name": "python3"
  },
  "language_info": {
   "codemirror_mode": {
    "name": "ipython",
    "version": 3
   },
   "file_extension": ".py",
   "mimetype": "text/x-python",
   "name": "python",
   "nbconvert_exporter": "python",
   "pygments_lexer": "ipython3",
   "version": "3.9.12"
  }
 },
 "nbformat": 4,
 "nbformat_minor": 5
}
