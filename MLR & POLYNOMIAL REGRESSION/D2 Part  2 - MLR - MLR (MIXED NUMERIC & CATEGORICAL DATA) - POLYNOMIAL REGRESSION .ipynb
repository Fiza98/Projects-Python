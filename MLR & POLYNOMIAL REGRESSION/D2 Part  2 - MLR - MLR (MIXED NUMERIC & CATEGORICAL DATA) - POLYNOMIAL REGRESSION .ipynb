{
 "cells": [
  {
   "cell_type": "markdown",
   "id": "3984a9f5",
   "metadata": {},
   "source": [
    "MULTIPLE LINEAR REGRESSION"
   ]
  },
  {
   "cell_type": "markdown",
   "id": "b98ab237",
   "metadata": {},
   "source": [
    "Dataset:\n",
    "The data below shows the amount spent by 3 departments and\n",
    "profit gained for a company."
   ]
  },
  {
   "cell_type": "code",
   "execution_count": 1,
   "id": "5c2ea99c",
   "metadata": {},
   "outputs": [
    {
     "data": {
      "text/html": [
       "<div>\n",
       "<style scoped>\n",
       "    .dataframe tbody tr th:only-of-type {\n",
       "        vertical-align: middle;\n",
       "    }\n",
       "\n",
       "    .dataframe tbody tr th {\n",
       "        vertical-align: top;\n",
       "    }\n",
       "\n",
       "    .dataframe thead th {\n",
       "        text-align: right;\n",
       "    }\n",
       "</style>\n",
       "<table border=\"1\" class=\"dataframe\">\n",
       "  <thead>\n",
       "    <tr style=\"text-align: right;\">\n",
       "      <th></th>\n",
       "      <th>S&amp;P department (spend)</th>\n",
       "      <th>Admin department(spend)</th>\n",
       "      <th>Operation department(spend)</th>\n",
       "      <th>Profit</th>\n",
       "    </tr>\n",
       "  </thead>\n",
       "  <tbody>\n",
       "    <tr>\n",
       "      <th>0</th>\n",
       "      <td>101184</td>\n",
       "      <td>70674</td>\n",
       "      <td>97009</td>\n",
       "      <td>259480</td>\n",
       "    </tr>\n",
       "    <tr>\n",
       "      <th>1</th>\n",
       "      <td>70132</td>\n",
       "      <td>52030</td>\n",
       "      <td>63587</td>\n",
       "      <td>137019</td>\n",
       "    </tr>\n",
       "    <tr>\n",
       "      <th>2</th>\n",
       "      <td>149539</td>\n",
       "      <td>98535</td>\n",
       "      <td>199994</td>\n",
       "      <td>495552</td>\n",
       "    </tr>\n",
       "    <tr>\n",
       "      <th>3</th>\n",
       "      <td>75821</td>\n",
       "      <td>53649</td>\n",
       "      <td>66500</td>\n",
       "      <td>165057</td>\n",
       "    </tr>\n",
       "    <tr>\n",
       "      <th>4</th>\n",
       "      <td>97730</td>\n",
       "      <td>68667</td>\n",
       "      <td>91754</td>\n",
       "      <td>247841</td>\n",
       "    </tr>\n",
       "  </tbody>\n",
       "</table>\n",
       "</div>"
      ],
      "text/plain": [
       "   S&P department (spend)  Admin department(spend)  \\\n",
       "0                  101184                    70674   \n",
       "1                   70132                    52030   \n",
       "2                  149539                    98535   \n",
       "3                   75821                    53649   \n",
       "4                   97730                    68667   \n",
       "\n",
       "   Operation department(spend)  Profit  \n",
       "0                        97009  259480  \n",
       "1                        63587  137019  \n",
       "2                       199994  495552  \n",
       "3                        66500  165057  \n",
       "4                        91754  247841  "
      ]
     },
     "execution_count": 1,
     "metadata": {},
     "output_type": "execute_result"
    }
   ],
   "source": [
    "#Multiple Linear Regression\n",
    "#import libraries\n",
    "import numpy as np\n",
    "import matplotlib.pyplot as plt\n",
    "import pandas as pd\n",
    "\n",
    "#import dataset\n",
    "ds=pd.read_csv('MLR_numeric.csv')\n",
    "ds.head()"
   ]
  },
  {
   "cell_type": "code",
   "execution_count": 2,
   "id": "74917ec5",
   "metadata": {},
   "outputs": [
    {
     "name": "stdout",
     "output_type": "stream",
     "text": [
      "<class 'pandas.core.frame.DataFrame'>\n",
      "RangeIndex: 50 entries, 0 to 49\n",
      "Data columns (total 4 columns):\n",
      " #   Column                       Non-Null Count  Dtype\n",
      "---  ------                       --------------  -----\n",
      " 0   S&P department (spend)       50 non-null     int64\n",
      " 1   Admin department(spend)      50 non-null     int64\n",
      " 2   Operation department(spend)  50 non-null     int64\n",
      " 3   Profit                       50 non-null     int64\n",
      "dtypes: int64(4)\n",
      "memory usage: 1.7 KB\n"
     ]
    }
   ],
   "source": [
    "ds.info()"
   ]
  },
  {
   "cell_type": "code",
   "execution_count": 3,
   "id": "295eebae",
   "metadata": {},
   "outputs": [],
   "source": [
    "#x=ds.iloc[:,[0,1,2]].values \n",
    "x=ds.iloc[:,:-1].values \n",
    "y=ds.iloc [:,3].values\n",
    "#print(x)\n"
   ]
  },
  {
   "cell_type": "code",
   "execution_count": 4,
   "id": "a6cf1981",
   "metadata": {},
   "outputs": [
    {
     "name": "stdout",
     "output_type": "stream",
     "text": [
      "    S&P department (spend)  Admin department(spend)  \\\n",
      "0                   101184                    70674   \n",
      "1                    70132                    52030   \n",
      "2                   149539                    98535   \n",
      "3                    75821                    53649   \n",
      "4                    97730                    68667   \n",
      "5                    84544                    60923   \n",
      "6                   117490                    85379   \n",
      "7                   119913                    86499   \n",
      "8                   145244                    95108   \n",
      "9                   147217                    95598   \n",
      "10                   81746                    56815   \n",
      "11                  107967                    74058   \n",
      "12                   74692                    52493   \n",
      "13                   72228                    52210   \n",
      "14                   96292                    68521   \n",
      "15                  124506                    86995   \n",
      "16                  113543                    82796   \n",
      "17                  142585                    94589   \n",
      "18                  118057                    86227   \n",
      "19                   86260                    63082   \n",
      "20                   63601                    51026   \n",
      "21                  113200                    76388   \n",
      "22                  141331                    93725   \n",
      "23                   79667                    54864   \n",
      "24                  112208                    75407   \n",
      "25                   82622                    59754   \n",
      "26                  127721                    88888   \n",
      "27                  117901                    85532   \n",
      "28                  147364                    96275   \n",
      "29                  110661                    75404   \n",
      "30                  107360                    73604   \n",
      "31                   87194                    63403   \n",
      "32                   75381                    52575   \n",
      "33                  113427                    78653   \n",
      "34                  103004                    71720   \n",
      "35                  109249                    74209   \n",
      "36                  134157                    92647   \n",
      "37                  116481                    83866   \n",
      "38                   85908                    61800   \n",
      "39                  131088                    89489   \n",
      "40                   81818                    57716   \n",
      "41                   87227                    67434   \n",
      "42                  103666                    72280   \n",
      "43                  134089                    91457   \n",
      "44                  100846                    69194   \n",
      "45                   63540                    50907   \n",
      "46                  114384                    83388   \n",
      "47                   53199                    50191   \n",
      "48                  131777                    89570   \n",
      "49                  110643                    74362   \n",
      "\n",
      "    Operation department(spend)  \n",
      "0                         97009  \n",
      "1                         63587  \n",
      "2                        199994  \n",
      "3                         66500  \n",
      "4                         91754  \n",
      "5                         81618  \n",
      "6                        146277  \n",
      "7                        150579  \n",
      "8                        189066  \n",
      "9                        190309  \n",
      "10                        72351  \n",
      "11                       106215  \n",
      "12                        64267  \n",
      "13                        63719  \n",
      "14                        90007  \n",
      "15                       153382  \n",
      "16                       122345  \n",
      "17                       184603  \n",
      "18                       146948  \n",
      "19                        85320  \n",
      "20                        59932  \n",
      "21                       115984  \n",
      "22                       171453  \n",
      "23                        69102  \n",
      "24                       115316  \n",
      "25                        72987  \n",
      "26                       153477  \n",
      "27                       146822  \n",
      "28                       191812  \n",
      "29                       114864  \n",
      "30                       100773  \n",
      "31                        87468  \n",
      "32                        66116  \n",
      "33                       119763  \n",
      "34                       100065  \n",
      "35                       109578  \n",
      "36                       167690  \n",
      "37                       141719  \n",
      "38                        82411  \n",
      "39                       154742  \n",
      "40                        72492  \n",
      "41                        87488  \n",
      "42                       100346  \n",
      "43                       166994  \n",
      "44                        95680  \n",
      "45                        57776  \n",
      "46                       126691  \n",
      "47                        52911  \n",
      "48                       160129  \n",
      "49                       112527  \n"
     ]
    }
   ],
   "source": [
    "x = ds[[\"S&P department (spend)\",\"Admin department(spend)\",\"Operation department(spend)\"]]\n",
    "y = ds[\"Profit\"]\n",
    "print(x)"
   ]
  },
  {
   "cell_type": "code",
   "execution_count": 5,
   "id": "5f7f6944",
   "metadata": {
    "scrolled": true
   },
   "outputs": [
    {
     "name": "stdout",
     "output_type": "stream",
     "text": [
      "                             S&P department (spend)  Admin department(spend)  \\\n",
      "S&P department (spend)                     1.000000                 0.984560   \n",
      "Admin department(spend)                    0.984560                 1.000000   \n",
      "Operation department(spend)                0.976437                 0.980723   \n",
      "Profit                                     0.982576                 0.993823   \n",
      "\n",
      "                             Operation department(spend)    Profit  \n",
      "S&P department (spend)                          0.976437  0.982576  \n",
      "Admin department(spend)                         0.980723  0.993823  \n",
      "Operation department(spend)                     1.000000  0.975566  \n",
      "Profit                                          0.975566  1.000000  \n"
     ]
    }
   ],
   "source": [
    "#calculate the correlation coefficient for the dataset\n",
    "corr = ds.corr()\n",
    "print(corr)"
   ]
  },
  {
   "cell_type": "code",
   "execution_count": 6,
   "id": "ab6eae09",
   "metadata": {},
   "outputs": [],
   "source": [
    "#splitting the dataset into training and test sets\n",
    "#use 20% for testing data\n",
    "from sklearn.model_selection import train_test_split\n",
    "x_train, x_test , y_train , y_test = train_test_split (x, y, test_size = 0.2, random_state = 0)"
   ]
  },
  {
   "cell_type": "code",
   "execution_count": 7,
   "id": "0f61a38c",
   "metadata": {},
   "outputs": [
    {
     "name": "stdout",
     "output_type": "stream",
     "text": [
      "Coefficients,beta: [ 0.74568222  6.6837466  -0.17261534]\n",
      "Constant,alpha: [-245992.40257837]\n"
     ]
    },
    {
     "name": "stderr",
     "output_type": "stream",
     "text": [
      "C:\\Users\\USER\\anaconda3\\lib\\site-packages\\sklearn\\base.py:450: UserWarning: X does not have valid feature names, but LinearRegression was fitted with feature names\n",
      "  warnings.warn(\n"
     ]
    }
   ],
   "source": [
    "#Fitting multiple linear regression to training set\n",
    "from sklearn.linear_model import LinearRegression\n",
    "regressor=LinearRegression()\n",
    "regressor.fit(x_train,y_train)\n",
    "print('Coefficients,beta:', regressor.coef_)\n",
    "print('Constant,alpha:', regressor.predict([[0,0,0]]))"
   ]
  },
  {
   "cell_type": "code",
   "execution_count": 11,
   "id": "a2f0e1fc",
   "metadata": {},
   "outputs": [
    {
     "name": "stdout",
     "output_type": "stream",
     "text": [
      "[474262.32345618 311167.2377158  182212.30728899 254661.21837792\n",
      " 489577.11092429 388254.76244367 216897.80322374 227697.88060702\n",
      " 456234.34442673 269997.80127102]\n",
      "28    466013\n",
      "11    305250\n",
      "10    188824\n",
      "41    241206\n",
      "2     495552\n",
      "27    397289\n",
      "38    222793\n",
      "31    229567\n",
      "22    438294\n",
      "4     247841\n",
      "Name: Profit, dtype: int64\n"
     ]
    }
   ],
   "source": [
    "#Predicting the results for test set-Step 3\n",
    "y_pred=regressor.predict(x_test)\n",
    "print(y_pred)\n",
    "print(y_test)"
   ]
  },
  {
   "cell_type": "code",
   "execution_count": 12,
   "id": "6c677d64",
   "metadata": {},
   "outputs": [
    {
     "name": "stdout",
     "output_type": "stream",
     "text": [
      "[[1.         0.99521366]\n",
      " [0.99521366 1.        ]]\n"
     ]
    }
   ],
   "source": [
    "#calculate the correlation coefficient\n",
    "corr = np.corrcoef(y_pred, y_test)\n",
    "print(corr)"
   ]
  },
  {
   "cell_type": "code",
   "execution_count": 14,
   "id": "6a426e22",
   "metadata": {},
   "outputs": [
    {
     "name": "stdout",
     "output_type": "stream",
     "text": [
      "[173811.18025181]\n"
     ]
    },
    {
     "name": "stderr",
     "output_type": "stream",
     "text": [
      "C:\\Users\\USER\\anaconda3\\lib\\site-packages\\sklearn\\base.py:450: UserWarning: X does not have valid feature names, but LinearRegression was fitted with feature names\n",
      "  warnings.warn(\n"
     ]
    }
   ],
   "source": [
    "#Prediction\n",
    "a=[[90020,55200,94230]]\n",
    "y_predict=regressor.predict(a)\n",
    "print(y_predict)"
   ]
  },
  {
   "cell_type": "code",
   "execution_count": 15,
   "id": "97d57e84",
   "metadata": {
    "scrolled": true
   },
   "outputs": [
    {
     "name": "stdout",
     "output_type": "stream",
     "text": [
      "129616592.25129525\n"
     ]
    }
   ],
   "source": [
    "#CALCULATE THE MEAN SQUARED ERROR\n",
    "from sklearn.metrics import mean_squared_error\n",
    "MSE=mean_squared_error(y_test, y_pred)\n",
    "print(MSE) #don't use for classification"
   ]
  },
  {
   "cell_type": "code",
   "execution_count": 16,
   "id": "f2af60d2",
   "metadata": {},
   "outputs": [
    {
     "data": {
      "text/plain": [
       "11384.928293638712"
      ]
     },
     "execution_count": 16,
     "metadata": {},
     "output_type": "execute_result"
    }
   ],
   "source": [
    "RMSE=np.sqrt(MSE)\n",
    "RMSE"
   ]
  },
  {
   "cell_type": "code",
   "execution_count": 17,
   "id": "87e3a43c",
   "metadata": {},
   "outputs": [
    {
     "data": {
      "text/plain": [
       "2.400555079026984"
      ]
     },
     "execution_count": 17,
     "metadata": {},
     "output_type": "execute_result"
    }
   ],
   "source": [
    "#EXAMPLE, TAKE DATA FROM OUTPUT\n",
    "RMSE=np.sqrt(MSE)\n",
    "RMSE/474262.32345618*100"
   ]
  },
  {
   "cell_type": "code",
   "execution_count": 18,
   "id": "23ccdd86",
   "metadata": {},
   "outputs": [
    {
     "data": {
      "text/plain": [
       "11384.928293638712"
      ]
     },
     "execution_count": 18,
     "metadata": {},
     "output_type": "execute_result"
    }
   ],
   "source": [
    "RMSE/np.mean(y_test)*100\n",
    "RMSE"
   ]
  },
  {
   "cell_type": "markdown",
   "id": "42975e5f",
   "metadata": {},
   "source": [
    "**MLR -  MIXED NUMERIC AND CATEGORICAL DATA**"
   ]
  },
  {
   "cell_type": "markdown",
   "id": "1a602d0c",
   "metadata": {},
   "source": [
    "Dataset (MLR_mix.csv):\n",
    "The data below shows the amount spent by 3 departments and profit gained\n",
    "by the companies from 2 different states"
   ]
  },
  {
   "cell_type": "code",
   "execution_count": 20,
   "id": "77af5b1a",
   "metadata": {},
   "outputs": [
    {
     "data": {
      "text/html": [
       "<div>\n",
       "<style scoped>\n",
       "    .dataframe tbody tr th:only-of-type {\n",
       "        vertical-align: middle;\n",
       "    }\n",
       "\n",
       "    .dataframe tbody tr th {\n",
       "        vertical-align: top;\n",
       "    }\n",
       "\n",
       "    .dataframe thead th {\n",
       "        text-align: right;\n",
       "    }\n",
       "</style>\n",
       "<table border=\"1\" class=\"dataframe\">\n",
       "  <thead>\n",
       "    <tr style=\"text-align: right;\">\n",
       "      <th></th>\n",
       "      <th>S&amp;P department (spend)</th>\n",
       "      <th>Admin department(spend)</th>\n",
       "      <th>Operation department(spend)</th>\n",
       "      <th>state</th>\n",
       "      <th>Profit</th>\n",
       "    </tr>\n",
       "  </thead>\n",
       "  <tbody>\n",
       "    <tr>\n",
       "      <th>0</th>\n",
       "      <td>101184</td>\n",
       "      <td>70674</td>\n",
       "      <td>97009</td>\n",
       "      <td>A</td>\n",
       "      <td>259480</td>\n",
       "    </tr>\n",
       "    <tr>\n",
       "      <th>1</th>\n",
       "      <td>70132</td>\n",
       "      <td>52030</td>\n",
       "      <td>63587</td>\n",
       "      <td>B</td>\n",
       "      <td>137019</td>\n",
       "    </tr>\n",
       "    <tr>\n",
       "      <th>2</th>\n",
       "      <td>149539</td>\n",
       "      <td>98535</td>\n",
       "      <td>199994</td>\n",
       "      <td>A</td>\n",
       "      <td>495552</td>\n",
       "    </tr>\n",
       "    <tr>\n",
       "      <th>3</th>\n",
       "      <td>75821</td>\n",
       "      <td>53649</td>\n",
       "      <td>66500</td>\n",
       "      <td>B</td>\n",
       "      <td>165057</td>\n",
       "    </tr>\n",
       "    <tr>\n",
       "      <th>4</th>\n",
       "      <td>97730</td>\n",
       "      <td>68667</td>\n",
       "      <td>91754</td>\n",
       "      <td>B</td>\n",
       "      <td>247841</td>\n",
       "    </tr>\n",
       "  </tbody>\n",
       "</table>\n",
       "</div>"
      ],
      "text/plain": [
       "   S&P department (spend)  Admin department(spend)  \\\n",
       "0                  101184                    70674   \n",
       "1                   70132                    52030   \n",
       "2                  149539                    98535   \n",
       "3                   75821                    53649   \n",
       "4                   97730                    68667   \n",
       "\n",
       "   Operation department(spend) state  Profit  \n",
       "0                        97009     A  259480  \n",
       "1                        63587     B  137019  \n",
       "2                       199994     A  495552  \n",
       "3                        66500     B  165057  \n",
       "4                        91754     B  247841  "
      ]
     },
     "execution_count": 20,
     "metadata": {},
     "output_type": "execute_result"
    }
   ],
   "source": [
    "#Multiple Linear Regression\n",
    "#import libraries\n",
    "import numpy as np\n",
    "import matplotlib.pyplot as plt\n",
    "import pandas as pd\n",
    "\n",
    "#import dataset\n",
    "ds=pd.read_csv('MLR_mix.csv')\n",
    "ds.head()"
   ]
  },
  {
   "cell_type": "code",
   "execution_count": 21,
   "id": "cefc4b92",
   "metadata": {},
   "outputs": [
    {
     "name": "stdout",
     "output_type": "stream",
     "text": [
      "<class 'pandas.core.frame.DataFrame'>\n",
      "RangeIndex: 50 entries, 0 to 49\n",
      "Data columns (total 5 columns):\n",
      " #   Column                       Non-Null Count  Dtype \n",
      "---  ------                       --------------  ----- \n",
      " 0   S&P department (spend)       50 non-null     int64 \n",
      " 1   Admin department(spend)      50 non-null     int64 \n",
      " 2   Operation department(spend)  50 non-null     int64 \n",
      " 3   state                        50 non-null     object\n",
      " 4   Profit                       50 non-null     int64 \n",
      "dtypes: int64(4), object(1)\n",
      "memory usage: 2.1+ KB\n"
     ]
    }
   ],
   "source": [
    "ds.info()"
   ]
  },
  {
   "cell_type": "code",
   "execution_count": 22,
   "id": "1d9a9ead",
   "metadata": {},
   "outputs": [],
   "source": [
    "#x=ds.iloc[:,[0,1,2,3]].values\n",
    "#x=ds.iloc[:,:4].values\n",
    "x=ds.iloc[:,:-1].values\n",
    "y=ds.iloc[:,4].values\n",
    "#print(x)\n",
    "#print(y)"
   ]
  },
  {
   "cell_type": "code",
   "execution_count": 23,
   "id": "91a66079",
   "metadata": {},
   "outputs": [
    {
     "name": "stdout",
     "output_type": "stream",
     "text": [
      "                             S&P department (spend)  Admin department(spend)  \\\n",
      "S&P department (spend)                     1.000000                 0.984560   \n",
      "Admin department(spend)                    0.984560                 1.000000   \n",
      "Operation department(spend)                0.976437                 0.980723   \n",
      "Profit                                     0.982576                 0.993823   \n",
      "\n",
      "                             Operation department(spend)    Profit  \n",
      "S&P department (spend)                          0.976437  0.982576  \n",
      "Admin department(spend)                         0.980723  0.993823  \n",
      "Operation department(spend)                     1.000000  0.975566  \n",
      "Profit                                          0.975566  1.000000  \n"
     ]
    }
   ],
   "source": [
    "#calculate the correlation coefficient for the dataset\n",
    "corr = ds.corr()\n",
    "print(corr)"
   ]
  },
  {
   "cell_type": "code",
   "execution_count": 24,
   "id": "5f32d4b7",
   "metadata": {},
   "outputs": [
    {
     "name": "stdout",
     "output_type": "stream",
     "text": [
      "[[1.0 0.0 101184 70674 97009]\n",
      " [0.0 1.0 70132 52030 63587]\n",
      " [1.0 0.0 149539 98535 199994]\n",
      " [0.0 1.0 75821 53649 66500]\n",
      " [0.0 1.0 97730 68667 91754]\n",
      " [0.0 1.0 84544 60923 81618]\n",
      " [1.0 0.0 117490 85379 146277]\n",
      " [0.0 1.0 119913 86499 150579]\n",
      " [0.0 1.0 145244 95108 189066]\n",
      " [1.0 0.0 147217 95598 190309]\n",
      " [0.0 1.0 81746 56815 72351]\n",
      " [1.0 0.0 107967 74058 106215]\n",
      " [1.0 0.0 74692 52493 64267]\n",
      " [1.0 0.0 72228 52210 63719]\n",
      " [0.0 1.0 96292 68521 90007]\n",
      " [1.0 0.0 124506 86995 153382]\n",
      " [0.0 1.0 113543 82796 122345]\n",
      " [1.0 0.0 142585 94589 184603]\n",
      " [1.0 0.0 118057 86227 146948]\n",
      " [1.0 0.0 86260 63082 85320]\n",
      " [1.0 0.0 63601 51026 59932]\n",
      " [1.0 0.0 113200 76388 115984]\n",
      " [0.0 1.0 141331 93725 171453]\n",
      " [1.0 0.0 79667 54864 69102]\n",
      " [0.0 1.0 112208 75407 115316]\n",
      " [1.0 0.0 82622 59754 72987]\n",
      " [0.0 1.0 127721 88888 153477]\n",
      " [0.0 1.0 117901 85532 146822]\n",
      " [0.0 1.0 147364 96275 191812]\n",
      " [1.0 0.0 110661 75404 114864]\n",
      " [0.0 1.0 107360 73604 100773]\n",
      " [0.0 1.0 87194 63403 87468]\n",
      " [1.0 0.0 75381 52575 66116]\n",
      " [1.0 0.0 113427 78653 119763]\n",
      " [0.0 1.0 103004 71720 100065]\n",
      " [0.0 1.0 109249 74209 109578]\n",
      " [0.0 1.0 134157 92647 167690]\n",
      " [1.0 0.0 116481 83866 141719]\n",
      " [0.0 1.0 85908 61800 82411]\n",
      " [0.0 1.0 131088 89489 154742]\n",
      " [1.0 0.0 81818 57716 72492]\n",
      " [0.0 1.0 87227 67434 87488]\n",
      " [1.0 0.0 103666 72280 100346]\n",
      " [0.0 1.0 134089 91457 166994]\n",
      " [1.0 0.0 100846 69194 95680]\n",
      " [0.0 1.0 63540 50907 57776]\n",
      " [1.0 0.0 114384 83388 126691]\n",
      " [0.0 1.0 53199 50191 52911]\n",
      " [1.0 0.0 131777 89570 160129]\n",
      " [1.0 0.0 110643 74362 112527]]\n"
     ]
    }
   ],
   "source": [
    "#STEP 2\n",
    "#Handling or Encode categorical variables\n",
    "from sklearn.preprocessing import LabelEncoder , OneHotEncoder\n",
    "from sklearn.compose import ColumnTransformer\n",
    "labelencoder_x = LabelEncoder()\n",
    "x[:, 3] = labelencoder_x.fit_transform(x[:,3])\n",
    "\n",
    "ct = ColumnTransformer ([(\"State\", OneHotEncoder(), [3])], remainder='passthrough')\n",
    "x = ct.fit_transform (x)\n",
    "print(x)"
   ]
  },
  {
   "cell_type": "code",
   "execution_count": 25,
   "id": "bebc2fa6",
   "metadata": {},
   "outputs": [],
   "source": [
    "#Avoid dummy variable,remove the unnecessary column\n",
    "x=x[:,1:] #keep B\n",
    "#x=x[:,[0,2,3,4]] #keep A"
   ]
  },
  {
   "cell_type": "code",
   "execution_count": 26,
   "id": "ccaaf1d8",
   "metadata": {},
   "outputs": [],
   "source": [
    "#splitting the dataset into training and test sets\n",
    "#use 20% for testing data\n",
    "from sklearn.model_selection import train_test_split\n",
    "x_train, x_test , y_train , y_test = train_test_split (x, y, test_size = 0.2, random_state = 0)"
   ]
  },
  {
   "cell_type": "code",
   "execution_count": 27,
   "id": "f3d2ddee",
   "metadata": {},
   "outputs": [],
   "source": [
    "#import scaler\n",
    "from sklearn.preprocessing import StandardScaler,MinMaxScaler\n",
    "sc_X = StandardScaler()\n",
    "#sc_X = MinMaxScaler() #normalization\n",
    "x_train = sc_X.fit_transform(x_train) #not original train data,automatically calculate the miu n std value calculated from x train"
   ]
  },
  {
   "cell_type": "code",
   "execution_count": 28,
   "id": "539f6b19",
   "metadata": {},
   "outputs": [
    {
     "name": "stdout",
     "output_type": "stream",
     "text": [
      "Coefficients,beta: [ -3778.94266828  15057.72856866 102355.90072011  -7688.65481663]\n",
      "Constant,alpha: [300828.1]\n"
     ]
    }
   ],
   "source": [
    "#Fitting simple linear regression to training set\n",
    "from sklearn.linear_model import LinearRegression\n",
    "regressor=LinearRegression()\n",
    "regressor.fit(x_train,y_train)\n",
    "print('Coefficients,beta:', regressor.coef_)\n",
    "print('Constant,alpha:', regressor.predict([[0,0,0,0]]))"
   ]
  },
  {
   "cell_type": "code",
   "execution_count": 29,
   "id": "9cd28b19",
   "metadata": {},
   "outputs": [],
   "source": [
    "x_test = sc_X.transform(x_test)"
   ]
  },
  {
   "cell_type": "code",
   "execution_count": 30,
   "id": "e96983ec",
   "metadata": {},
   "outputs": [
    {
     "name": "stdout",
     "output_type": "stream",
     "text": [
      "[469131.79514153 314305.95098855 177031.76224272 251333.22466428\n",
      " 492265.59457446 384791.47672058 212333.02403266 223303.09210661\n",
      " 451563.42840049 265608.51763769]\n",
      "[466013 305250 188824 241206 495552 397289 222793 229567 438294 247841]\n"
     ]
    }
   ],
   "source": [
    "#Predicting the results for test set-Step 3\n",
    "y_pred=regressor.predict(x_test)\n",
    "print(y_pred)\n",
    "print(y_test)"
   ]
  },
  {
   "cell_type": "code",
   "execution_count": 31,
   "id": "767c2349",
   "metadata": {},
   "outputs": [
    {
     "name": "stdout",
     "output_type": "stream",
     "text": [
      "[[1.         0.99542528]\n",
      " [0.99542528 1.        ]]\n"
     ]
    }
   ],
   "source": [
    "#calculate the correlation coefficient\n",
    "#nak cek linear relationship\n",
    "corr=np.corrcoef(y_pred, y_test)\n",
    "print(corr)"
   ]
  },
  {
   "cell_type": "code",
   "execution_count": 32,
   "id": "fb01bc86",
   "metadata": {},
   "outputs": [
    {
     "name": "stdout",
     "output_type": "stream",
     "text": [
      "114075328.33230369\n"
     ]
    }
   ],
   "source": [
    "#CALCULATE THE MEAN SQUARED ERROR\n",
    "from sklearn.metrics import mean_squared_error\n",
    "MSE=mean_squared_error(y_test, y_pred)\n",
    "print(MSE) #don't use for classification"
   ]
  },
  {
   "cell_type": "code",
   "execution_count": 33,
   "id": "916ab90a",
   "metadata": {},
   "outputs": [
    {
     "data": {
      "text/plain": [
       "10680.605241853276"
      ]
     },
     "execution_count": 33,
     "metadata": {},
     "output_type": "execute_result"
    }
   ],
   "source": [
    "RMSE=np.sqrt(MSE)\n",
    "RMSE/np.mean(y_test)*100\n",
    "RMSE"
   ]
  },
  {
   "cell_type": "code",
   "execution_count": 38,
   "id": "08058cde",
   "metadata": {},
   "outputs": [
    {
     "name": "stdout",
     "output_type": "stream",
     "text": [
      "[6.28133755e+09]\n"
     ]
    }
   ],
   "source": [
    "#Prediction\n",
    "x =[[1.0,90020.0,55200.0,94230.0]]# B happen\n",
    "y_predict=regressor.predict(x)\n",
    "print(y_predict)"
   ]
  },
  {
   "cell_type": "code",
   "execution_count": 39,
   "id": "9dde2505",
   "metadata": {},
   "outputs": [
    {
     "name": "stdout",
     "output_type": "stream",
     "text": [
      "[174400.58019591]\n"
     ]
    }
   ],
   "source": [
    "#Wrong Prediction\n",
    "x_input = sc_X.transform([[0,90020,55200,94230]])#state A happen\n",
    "y_pred=regressor.predict(x_input)\n",
    "print(y_pred)"
   ]
  },
  {
   "cell_type": "markdown",
   "id": "4194975a",
   "metadata": {},
   "source": [
    "**POLYNOMIAL REGRESSION**"
   ]
  },
  {
   "cell_type": "code",
   "execution_count": 40,
   "id": "3bec39e6",
   "metadata": {},
   "outputs": [
    {
     "data": {
      "text/html": [
       "<div>\n",
       "<style scoped>\n",
       "    .dataframe tbody tr th:only-of-type {\n",
       "        vertical-align: middle;\n",
       "    }\n",
       "\n",
       "    .dataframe tbody tr th {\n",
       "        vertical-align: top;\n",
       "    }\n",
       "\n",
       "    .dataframe thead th {\n",
       "        text-align: right;\n",
       "    }\n",
       "</style>\n",
       "<table border=\"1\" class=\"dataframe\">\n",
       "  <thead>\n",
       "    <tr style=\"text-align: right;\">\n",
       "      <th></th>\n",
       "      <th>Volume</th>\n",
       "      <th>Price</th>\n",
       "    </tr>\n",
       "  </thead>\n",
       "  <tbody>\n",
       "    <tr>\n",
       "      <th>0</th>\n",
       "      <td>10</td>\n",
       "      <td>393.10</td>\n",
       "    </tr>\n",
       "    <tr>\n",
       "      <th>1</th>\n",
       "      <td>11</td>\n",
       "      <td>471.91</td>\n",
       "    </tr>\n",
       "    <tr>\n",
       "      <th>2</th>\n",
       "      <td>14</td>\n",
       "      <td>751.66</td>\n",
       "    </tr>\n",
       "    <tr>\n",
       "      <th>3</th>\n",
       "      <td>16</td>\n",
       "      <td>974.26</td>\n",
       "    </tr>\n",
       "    <tr>\n",
       "      <th>4</th>\n",
       "      <td>17</td>\n",
       "      <td>1096.39</td>\n",
       "    </tr>\n",
       "  </tbody>\n",
       "</table>\n",
       "</div>"
      ],
      "text/plain": [
       "   Volume    Price\n",
       "0      10   393.10\n",
       "1      11   471.91\n",
       "2      14   751.66\n",
       "3      16   974.26\n",
       "4      17  1096.39"
      ]
     },
     "execution_count": 40,
     "metadata": {},
     "output_type": "execute_result"
    }
   ],
   "source": [
    "#Polynomial Regression - step 1\n",
    "#import libraries\n",
    "import numpy as np\n",
    "import matplotlib.pyplot as plt\n",
    "import pandas as pd\n",
    "\n",
    "#import dataset\n",
    "ds=pd .read_csv ('Volume_price.csv')\n",
    "ds.head()"
   ]
  },
  {
   "cell_type": "code",
   "execution_count": 41,
   "id": "b6bba362",
   "metadata": {},
   "outputs": [
    {
     "name": "stdout",
     "output_type": "stream",
     "text": [
      "<class 'pandas.core.frame.DataFrame'>\n",
      "RangeIndex: 23 entries, 0 to 22\n",
      "Data columns (total 2 columns):\n",
      " #   Column  Non-Null Count  Dtype  \n",
      "---  ------  --------------  -----  \n",
      " 0   Volume  23 non-null     int64  \n",
      " 1   Price   23 non-null     float64\n",
      "dtypes: float64(1), int64(1)\n",
      "memory usage: 496.0 bytes\n"
     ]
    }
   ],
   "source": [
    "#step 2\n",
    "ds.info()"
   ]
  },
  {
   "cell_type": "code",
   "execution_count": 42,
   "id": "b23de734",
   "metadata": {},
   "outputs": [],
   "source": [
    "#step 3\n",
    "#x=ds.iloc[:,:-1].values\n",
    "x=ds.iloc[:,[0]].values\n",
    "y=ds.iloc [:,1].values"
   ]
  },
  {
   "cell_type": "code",
   "execution_count": 43,
   "id": "9032faa2",
   "metadata": {},
   "outputs": [
    {
     "data": {
      "image/png": "[encoded data removed]",
      "text/plain": [
       "<Figure size 432x288 with 1 Axes>"
      ]
     },
     "metadata": {
      "needs_background": "light"
     },
     "output_type": "display_data"
    }
   ],
   "source": [
    "# visualizing the result\n",
    "plt.scatter(x,y,color='red')\n",
    "plt.title('Price vs Volume')\n",
    "plt.xlabel('Volume')\n",
    "plt.ylabel('Price')\n",
    "plt.show()#"
   ]
  },
  {
   "cell_type": "code",
   "execution_count": 44,
   "id": "059b0169",
   "metadata": {},
   "outputs": [
    {
     "data": {
      "text/plain": [
       "LinearRegression()"
      ]
     },
     "execution_count": 44,
     "metadata": {},
     "output_type": "execute_result"
    }
   ],
   "source": [
    "#step 4\n",
    "#Fitting polynomial regression to the dataset\n",
    "from sklearn.preprocessing import PolynomialFeatures\n",
    "from sklearn.linear_model import LinearRegression\n",
    "\n",
    "poly_reg2= PolynomialFeatures(degree=2)\n",
    "x_poly2=poly_reg2.fit_transform(x)\n",
    "\n",
    "regressor2=LinearRegression()\n",
    "regressor2.fit(x_poly2,y)"
   ]
  },
  {
   "cell_type": "code",
   "execution_count": 45,
   "id": "f305ec78",
   "metadata": {},
   "outputs": [
    {
     "data": {
      "image/png": "[encoded data removed]",
      "text/plain": [
       "<Figure size 432x288 with 1 Axes>"
      ]
     },
     "metadata": {
      "needs_background": "light"
     },
     "output_type": "display_data"
    }
   ],
   "source": [
    "#visualizing the result\n",
    "plt.scatter(x,y,color='red')\n",
    "plt.plot(x, regressor2.predict(x_poly2), color='blue')\n",
    "plt.title('Price vs Volume')\n",
    "plt.xlabel('Volume')\n",
    "plt.ylabel('Price')\n",
    "plt.show()"
   ]
  },
  {
   "cell_type": "code",
   "execution_count": 46,
   "id": "c8edd942",
   "metadata": {},
   "outputs": [
    {
     "data": {
      "text/plain": [
       "LinearRegression()"
      ]
     },
     "execution_count": 46,
     "metadata": {},
     "output_type": "execute_result"
    }
   ],
   "source": [
    "#Fitting polynomial regression to the dataset\n",
    "#use degree 5 for best fit\n",
    "from sklearn.preprocessing import PolynomialFeatures\n",
    "from sklearn.linear_model import LinearRegression\n",
    "poly_reg5= PolynomialFeatures(degree=5)\n",
    "x_poly5=poly_reg5.fit_transform(x)\n",
    "regressor5=LinearRegression()\n",
    "regressor5.fit(x_poly5,y)"
   ]
  },
  {
   "cell_type": "code",
   "execution_count": 47,
   "id": "97d74bc7",
   "metadata": {},
   "outputs": [
    {
     "data": {
      "image/png": "[encoded data removed]",
      "text/plain": [
       "<Figure size 432x288 with 1 Axes>"
      ]
     },
     "metadata": {
      "needs_background": "light"
     },
     "output_type": "display_data"
    }
   ],
   "source": [
    "# Polynomial Linear Regression – Step 3:\n",
    "# visualizing the result\n",
    "plt.scatter(x,y,color='red')\n",
    "plt.plot(x, regressor5.predict(x_poly5), color='blue')\n",
    "plt.plot(x, regressor2.predict(x_poly2), color='green')\n",
    "plt.title('Price')\n",
    "plt.show()"
   ]
  },
  {
   "cell_type": "code",
   "execution_count": 48,
   "id": "e779ba61",
   "metadata": {},
   "outputs": [
    {
     "data": {
      "image/png": "[encoded data removed]",
      "text/plain": [
       "<Figure size 432x288 with 1 Axes>"
      ]
     },
     "metadata": {
      "needs_background": "light"
     },
     "output_type": "display_data"
    }
   ],
   "source": [
    "#visualizing the regression result(for higher resolution and smoother curve) \n",
    "x_grid = np.arange(min(x),max(x),0.1)\n",
    "x_grid=x_grid.reshape((len(x_grid),1))\n",
    "\n",
    "plt.scatter(x,y,color='red')\n",
    "plt.plot(x, regressor2.predict(x_poly2), color='green')\n",
    "plt.plot(x_grid, regressor5.predict(poly_reg5.fit_transform(x_grid)), color='blue')\n",
    "plt.title('Price vs Volume(polynomial regression) ')\n",
    "plt.xlabel('Volume')\n",
    "plt.ylabel('Price')\n",
    "plt.show()"
   ]
  },
  {
   "cell_type": "code",
   "execution_count": 49,
   "id": "7fc9a982",
   "metadata": {},
   "outputs": [
    {
     "name": "stdout",
     "output_type": "stream",
     "text": [
      "[4502.56250036]\n"
     ]
    }
   ],
   "source": [
    "#Predict the price when the volume is 35. (degree 5)\n",
    "y_predict=regressor5.predict(poly_reg5.fit_transform([[35]]))\n",
    "print(y_predict)\n",
    "#actual answer is 4529.35"
   ]
  },
  {
   "cell_type": "code",
   "execution_count": 50,
   "id": "9fa9eed3",
   "metadata": {},
   "outputs": [
    {
     "name": "stdout",
     "output_type": "stream",
     "text": [
      "[2724.87262355]\n"
     ]
    }
   ],
   "source": [
    "#Predict the price when the volume is 35. (degree 2)\n",
    "y_predict=regressor2.predict(poly_reg2.fit_transform([[35]]))\n",
    "print(y_predict)"
   ]
  }
 ],
 "metadata": {
  "kernelspec": {
   "display_name": "Python 3 (ipykernel)",
   "language": "python",
   "name": "python3"
  },
  "language_info": {
   "codemirror_mode": {
    "name": "ipython",
    "version": 3
   },
   "file_extension": ".py",
   "mimetype": "text/x-python",
   "name": "python",
   "nbconvert_exporter": "python",
   "pygments_lexer": "ipython3",
   "version": "3.9.12"
  }
 },
 "nbformat": 4,
 "nbformat_minor": 5
}
